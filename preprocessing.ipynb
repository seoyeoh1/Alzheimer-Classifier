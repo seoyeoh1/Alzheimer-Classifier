{
 "cells": [
  {
   "cell_type": "code",
   "execution_count": 17,
   "metadata": {},
   "outputs": [],
   "source": [
    "import os\n",
    "import glob\n",
    "import numpy as np\n",
    "import pandas as pd\n",
    "#!pip install SimpleITK\n",
    "import SimpleITK as sitk\n",
    "from dltk.io import preprocessing\n",
    "from skimage import filters\n",
    "import nipype.interfaces.fsl as fsl\n",
    "\n",
    "import tensorflow as tf\n",
    "from tensorflow import keras\n",
    "from matplotlib import pyplot as plt\n",
    "\n",
    "import os"
   ]
  },
  {
   "cell_type": "markdown",
   "metadata": {},
   "source": [
    "## 1. Preprocessing"
   ]
  },
  {
   "cell_type": "code",
   "execution_count": null,
   "metadata": {},
   "outputs": [],
   "source": [
    "# 1. Resample image\n",
    "\n",
    "def resample(image, output_spacing = [2.0, 2.0, 2.0]):\n",
    "    ''' Resample images to 2-mm isotropic voxels\n",
    "      \n",
    "        Parameters:\n",
    "            image -- Image in SimpleITK format\n",
    "            output_spacing -- Target space representation of each voxel\n",
    "            \n",
    "        Returns:\n",
    "            Output image in SimpleITK format\n",
    "    '''\n",
    "    \n",
    "    # Resample images to 2mm spacing\n",
    "    original_spacing = image.GetSpacing()\n",
    "    original_size = image.GetSize()\n",
    "\n",
    "    output_size = [\n",
    "        int(np.round(original_size[0] * (original_spacing[0] / output_spacing[0]))),\n",
    "        int(np.round(original_size[1] * (original_spacing[1] / output_spacing[1]))),\n",
    "        int(np.round(original_size[2] * (original_spacing[2] / output_spacing[2])))]\n",
    "\n",
    "    resample = sitk.ResampleImageFilter()\n",
    "    resample.SetOutputSpacing(output_spacing)\n",
    "    resample.SetSize(output_size)\n",
    "    resample.SetOutputDirection(image.GetDirection())\n",
    "    resample.SetOutputOrigin(image.GetOrigin())\n",
    "    resample.SetTransform(sitk.Transform())\n",
    "    resample.SetDefaultPixelValue(image.GetPixelIDValue())\n",
    "\n",
    "    resample.SetInterpolator(sitk.sitkBSpline)\n",
    "\n",
    "    return resample.Execute(image)\n",
    "\n",
    "\n",
    "# 2. Registrate image\n",
    "\n",
    "def register(sitk_fixed, sitk_moving, bspline = False):\n",
    "    ''' register image with SimpleElastix using affine transformation.\n",
    "        \n",
    "        Parameters:\n",
    "            sitk_fixed -- Reference atlas\n",
    "            sitk_moving -- Image to be registrated \n",
    "            bspline -- Whether or not to perform non-rigid registration\n",
    "    '''\n",
    "    \n",
    "    elastixImageFilter = sitk.ElastixImageFilter()\n",
    "    elastixImageFilter.SetFixedImage(sitk_fixed)\n",
    "    elastixImageFilter.SetMovingImage(sitk_moving)\n",
    "\n",
    "    parameterMapVector = sitk.VectorOfParameterMap()\n",
    "    parameterMapVector.append(sitk.GetDefaultParameterMap(\"affine\"))\n",
    "    \n",
    "    if bspline:\n",
    "        parameterMapVector.append(sitk.GetDefaultParameterMap(\"bspline\"))\n",
    "        \n",
    "    elastixImageFilter.SetParameterMap(parameterMapVector)\n",
    "\n",
    "    elastixImageFilter.Execute()\n",
    "    \n",
    "    return elastixImageFilter.GetResultImage()\n",
    "\n",
    "\n",
    "# Function for registering image and saving them to a new directory\n",
    "\n",
    "def register_image(file_path, atlas):\n",
    "    ''' Parameters:\n",
    "            file_path -- where file is located, with the filename\n",
    "            atlas -- Reference sitk image for registration\n",
    "    '''\n",
    "        \n",
    "    filename = file_path.split('/')[-1] # filename without path\n",
    "    \n",
    "    # extract the image ID\n",
    "    image_ID = filename.strip().split('_')[-1][1:-4]\n",
    "        \n",
    "    # change the ID into a int64 numpy variable for indexing\n",
    "    image_ID = np.int64(image_ID)\n",
    "        \n",
    "    # extract image label using image_ID\n",
    "    row_index = description.index[description['Image Data ID'].str[1:].astype('int') == image_ID].tolist()[0]\n",
    "    # obtain the corresponding row in the dataframe\n",
    "    row = description.iloc[row_index]\n",
    "    # get the label\n",
    "    label = row['Group']\n",
    "    \n",
    "    # load sitk image\n",
    "    sitk_moving = sitk.ReadImage(file_path)\n",
    "    sitk_moving = resample(sitk_moving)\n",
    "    registrated = register(atlas, sitk_moving)\n",
    "    \n",
    "    # prepare the destination path\n",
    "    new_dir = os.path.join(REGISTRATED, \n",
    "                           label,\n",
    "                           filename)\n",
    "    sitk.WriteImage(registrated, new_dir)\n"
   ]
  },
  {
   "cell_type": "code",
   "execution_count": null,
   "metadata": {},
   "outputs": [],
   "source": [
    "# Raw data path\n",
    "filenames = glob.glob('/Users/seoyeonhong/Desktop/BIOST527/ADNI/RAW/*/*/*/*/*.nii')\n",
    "\n",
    "# metadata path\n",
    "description = pd.read_csv('/Users/seoyeonhong/Desktop/BIOST527/ADNI/ADNI_description.csv')\n",
    "\n",
    "# Atlas (reference for registering image)\n",
    "IMAGE = '/Users/seoyeonhong/Desktop/BIOST527/ADNI/average305_t1_tal_lin.nii'\n",
    "atlas = sitk.ReadImage(IMAGE)\n",
    "atlas = resample(atlas)\n",
    "\n",
    "# New destination\n",
    "REGISTERED = '/Users/seoyeonhong/Desktop/BIOST527/ADNI/REGISTERED/'\n",
    "# Images will be divided by label\n",
    "REGISTERED_SUBFOLDERS = ['AD/', 'MCI/', 'CN/']"
   ]
  },
  {
   "cell_type": "code",
   "execution_count": null,
   "metadata": {},
   "outputs": [],
   "source": [
    "# this is for registering images\n",
    "#### unfortunately there were problems in dependencies and installed python 3.5 to use ElastixImageFilter \n",
    "#### then wiped python so cannot run it again not installed in current python 3.8\n",
    "# for file in filenames:\n",
    "#     register_image(file, atlas)"
   ]
  },
  {
   "cell_type": "code",
   "execution_count": null,
   "metadata": {},
   "outputs": [],
   "source": [
    "def skull_strip_nii(original_img, destination_img, frac = 0.2):\n",
    "    ''' Uses FSL-BET \n",
    "        (https://fsl.fmrib.ox.ac.uk/fsl/fslwiki/BET/UserGuide#Main_bet2_options:)\n",
    "        \n",
    "        Parameters:\n",
    "            original_img -- Original nii image\n",
    "            destination_img -- The new skull-stripped image\n",
    "            frac -- Fractional intensity threshold for BET\n",
    "    '''\n",
    "    \n",
    "    btr = fsl.BET()\n",
    "    btr.inputs.in_file = original_img\n",
    "    btr.inputs.frac = frac\n",
    "    btr.inputs.out_file = destination_img\n",
    "    btr.cmdline\n",
    "    res = btr.run()\n"
   ]
  },
  {
   "cell_type": "code",
   "execution_count": null,
   "metadata": {},
   "outputs": [],
   "source": [
    "# database locations\n",
    "SKULL_STRIPPED_DB = '/Users/seoyeonhong/Desktop/BIOST527/ADNI/SKULL_STRIPPED/'\n",
    "SUB_FOLDERS = ['AD/', 'MCI/', 'CN/']\n",
    "\n",
    "exceptions = []\n",
    "\n",
    "for folder in SUB_FOLDERS:\n",
    "    registered_filenames = glob.glob(f\"{REGISTERED}{folder}/*.nii\")\n",
    "    output_dir = SKULL_STRIPPED_DB + folder\n",
    "    for filename in registered_filenames: \n",
    "        try:\n",
    "            skull_strip_nii(filename, output_dir + filename.split('/')[-1], frac = 0.2)\n",
    "        except RuntimeError:\n",
    "            exceptions.append(filename)"
   ]
  },
  {
   "cell_type": "code",
   "execution_count": 2,
   "metadata": {},
   "outputs": [],
   "source": [
    "# shape of the images\n",
    "IMG_SHAPE = (78, 110, 86)\n",
    "# IMG_2D_SHAPE = (IMG_SHAPE[1] * 4, IMG_SHAPE[2] * 4)\n",
    "\n",
    "# def slices_matrix_2D(img):\n",
    "#     ''' Transform a 3D MRI image into a 2D image by obtaining 16 horizontal slices\n",
    "#         and assembling on a 4x4 two-dimensional grid. Returns 2D image\n",
    "        \n",
    "#         Parameters:\n",
    "#             img -- np.ndarray with the 3D image\n",
    "#     '''\n",
    "\n",
    "#     # create final 2D image \n",
    "#     image_2D = np.empty(IMG_2D_SHAPE)\n",
    "\n",
    "#     # set limits and step\n",
    "#     TOP = 60\n",
    "#     BOTTOM = 30\n",
    "#     STEP = 2\n",
    "#     N_CUTS = 16\n",
    "\n",
    "#     # iterator for the cuts\n",
    "#     cut_it = TOP\n",
    "#     # iterator for the rows of the 2D final image\n",
    "#     row_it = 0\n",
    "#     # iterator for the columns of the 2D final image\n",
    "#     col_it = 0\n",
    "\n",
    "#     # cut\n",
    "#     for cutting_time in range(N_CUTS):\n",
    "#         cut = img[cut_it, :, :]\n",
    "#         cut_it -= STEP\n",
    "\n",
    "#     # reset the row iterator and move the\n",
    "#     # col iterator when needed\n",
    "#     if cutting_time in [4, 8, 12]:\n",
    "#         row_it = 0\n",
    "#         col_it += cut.shape[1]\n",
    "\n",
    "#     # copy the cut to the 2D image\n",
    "#     for i in range(cut.shape[0]):\n",
    "#         for j in range(cut.shape[1]):\n",
    "#             image_2D[i + row_it, j + col_it] = cut[i, j]\n",
    "#     row_it += cut.shape[0]\n",
    "  \n",
    "#     # return the final 2D image, with 3 channels\n",
    "#     return np.repeat(image_2D[None, ...], 3, axis=0).T\n",
    "\n",
    "def load_image(abs_path, whitening = True, convert_to_2D = False):\n",
    "    ''' Returns 3D image transformed into 2D along with its label given absolute path'''\n",
    "\n",
    "    # obtain the label from the path (it is the last directory name)\n",
    "    label = abs_path.split('/')[-2]\n",
    "\n",
    "    # load the image with SimpleITK\n",
    "    sitk_image = sitk.ReadImage(abs_path)\n",
    "\n",
    "    # transform into a numpy array\n",
    "    img = sitk.GetArrayFromImage(sitk_image)\n",
    "    \n",
    "    # apply whitening\n",
    "    if whitening == True:\n",
    "        img = preprocessing.whitening(img)\n",
    "\n",
    "    # make the 2D image\n",
    "    if convert_to_2D == True:\n",
    "        img = slices_matrix_2D(img)\n",
    "#     print(img.shape)\n",
    "\n",
    "    return img, label"
   ]
  },
  {
   "cell_type": "code",
   "execution_count": null,
   "metadata": {},
   "outputs": [],
   "source": [
    "# Transform skull stripped images into 2D and organize final dataset\n",
    "\n",
    "SKULL_STRIPPED_DB = '/Users/seoyeonhong/Desktop/BIOST527/ADNI/SKULL_STRIPPED/'\n",
    "SUB_FOLDERS = ['AD', 'MCI', 'CN']\n",
    "\n",
    "imgs = []\n",
    "labels = []\n",
    "ids = []\n",
    "filenames = []\n",
    "\n",
    "for folder in SUB_FOLDERS:\n",
    "    skullless_filenames = glob.glob(f\"{SKULL_STRIPPED_DB}{folder}/*.nii\")\n",
    "    filenames.extend(skullless_filenames)\n",
    "    for filename in skullless_filenames: \n",
    "        img, label = load_image(filename)\n",
    "        imgs.append(img)\n",
    "        labels.append(label)\n",
    "        ids.append(filename.split('/')[-1].strip().split('_')[-1][1:-4])"
   ]
  },
  {
   "cell_type": "code",
   "execution_count": null,
   "metadata": {},
   "outputs": [],
   "source": [
    "# Assemble final dataset\n",
    "final_df = pd.DataFrame(zip(ids, imgs, labels, filenames), columns = ['ID', 'IMG', 'LABEL', 'DIR'])"
   ]
  },
  {
   "cell_type": "code",
   "execution_count": null,
   "metadata": {},
   "outputs": [],
   "source": [
    "final_df.to_csv('preprocessed_images.csv')"
   ]
  },
  {
   "cell_type": "markdown",
   "metadata": {},
   "source": [
    "## 2. Transforming to TFRecords Format"
   ]
  },
  {
   "cell_type": "code",
   "execution_count": 18,
   "metadata": {},
   "outputs": [],
   "source": [
    "# Implement methods to build a tf.train.Feature from a basic python or numpy datatype.\n",
    "\n",
    "def _int64_feature(value):\n",
    "    return tf.train.Feature(int64_list=tf.train.Int64List(value=[value]))\n",
    "\n",
    "def _float_feature(value):\n",
    "    return tf.train.Feature(float_list=tf.train.FloatList(value=value))\n",
    "  \n",
    "def _bytes_feature(value):\n",
    "    return tf.train.Feature(bytes_list=tf.train.BytesList(value=[value]))"
   ]
  },
  {
   "cell_type": "code",
   "execution_count": 21,
   "metadata": {},
   "outputs": [],
   "source": [
    "# Folder path for registrated and skull-stripped images\n",
    "DB_REG_PATH = '/Users/seoyeonhong/Desktop/BIOST527/ADNI/REGISTERED/'\n",
    "DB_SS_PATH = '/Users/seoyeonhong/Desktop/BIOST527/ADNI/SKULL-STRIPPED/'\n",
    "\n",
    "# the data description file\n",
    "DESCRIPTION_FILE = '/Users/seoyeonhong/Desktop/BIOST527/ADNI/ADNI_description.csv'\n",
    "\n",
    "# data subfolders\n",
    "CLASS_SUBFOLDERS = ['MCI/', 'AD/', 'CN/']\n",
    "\n",
    "# supervised TFRecords database\n",
    "DB_TF_PATH = '/Users/seoyeonhong/Desktop/BIOST527/ADNI/TFRecords3D/'\n",
    "# tfrecords files - registered then skull stripped\n",
    "TFREC_SS_TRAIN = 'train.3D.skull_stripped.tfrecords'\n",
    "TFREC_SS_TEST = 'test.3D.skull_stripped.tfrecords'\n",
    "TFREC_SS_VAL = 'validation.3D.skull_stripped.tfrecords'"
   ]
  },
  {
   "cell_type": "code",
   "execution_count": 22,
   "metadata": {},
   "outputs": [],
   "source": [
    "# label mapping\n",
    "LABELS = {'CN': 0, 'MCI': 1, 'AD': 2}\n",
    "\n",
    "# shape of the images\n",
    "IMG_SHAPE = (78, 110, 86)"
   ]
  },
  {
   "cell_type": "code",
   "execution_count": 23,
   "metadata": {},
   "outputs": [],
   "source": [
    "# Defining the size of test and validation sets\n",
    "# When using TFRecords data needs to be split into separate files initially\n",
    "\n",
    "TEST_SPLIT = 0.15\n",
    "VALIDATION_SPLIT = 0.15"
   ]
  },
  {
   "cell_type": "code",
   "execution_count": 24,
   "metadata": {},
   "outputs": [],
   "source": [
    "# Shuffle and split train test data"
   ]
  },
  {
   "cell_type": "code",
   "execution_count": 25,
   "metadata": {},
   "outputs": [
    {
     "name": "stdout",
     "output_type": "stream",
     "text": [
      "511\n"
     ]
    }
   ],
   "source": [
    "# Fetch filenames as array\n",
    "filenames = np.array(glob.glob('/Users/seoyeonhong/Desktop/BIOST527/ADNI/SKULL_STRIPPED/*/*.nii'))\n",
    "print(len(filenames))"
   ]
  },
  {
   "cell_type": "code",
   "execution_count": 26,
   "metadata": {},
   "outputs": [
    {
     "name": "stdout",
     "output_type": "stream",
     "text": [
      "Training set: (370,)\n",
      "Validation set: (65,)\n",
      "Test set: (76,)\n"
     ]
    }
   ],
   "source": [
    "# shuffle and split data\n",
    "\n",
    "for i in range(1000):\n",
    "    np.random.shuffle(filenames)\n",
    "    \n",
    "test_margin = int(len(filenames) * TEST_SPLIT)\n",
    "training_set, test_set = filenames[test_margin:], filenames[:test_margin]\n",
    "\n",
    "validation_margin = int(len(training_set) * VALIDATION_SPLIT)\n",
    "training_set, validation_set = training_set[validation_margin:], training_set[:validation_margin]\n",
    "\n",
    "print('Training set:', training_set.shape)\n",
    "print('Validation set:', validation_set.shape)\n",
    "print('Test set:', test_set.shape)"
   ]
  },
  {
   "cell_type": "code",
   "execution_count": 27,
   "metadata": {},
   "outputs": [],
   "source": [
    "train_tfrec = DB_TF_PATH + TFREC_SS_TRAIN\n",
    "test_tfrec = DB_TF_PATH + TFREC_SS_TEST\n",
    "val_tfrec = DB_TF_PATH + TFREC_SS_VAL"
   ]
  },
  {
   "cell_type": "code",
   "execution_count": 31,
   "metadata": {},
   "outputs": [],
   "source": [
    "from PIL import Image\n",
    "\n",
    "def create_tf_record(img_filenames, tf_rec_filename, labels):\n",
    "    \"\"\"Create a TFRecord file after converting image to 2D\"\"\"\n",
    "    \n",
    "    # open the file\n",
    "    writer = tf.io.TFRecordWriter(tf_rec_filename)\n",
    "    \n",
    "    # iterate through all .nii files\n",
    "    for file in img_filenames:\n",
    "        # load the image and label\n",
    "        img, label = load_image(file)\n",
    "#         print(label)\n",
    "#         # Verifying image\n",
    "#         im = Image.fromarray(img.ravel())\n",
    "#         if im.mode != 'RGB':\n",
    "#             im = im.convert('RGB')\n",
    "#         im.save(f\"filename_{file.split('/')[-1].split('.')[0]}.png\")\n",
    "        \n",
    "        # create features\n",
    "        features = {'label': _int64_feature(labels[label]),\n",
    "                    'image': _float_feature(img.ravel())}\n",
    "        \n",
    "        # create an example protocol buffer\n",
    "        example = tf.train.Example(features=tf.train.Features(feature = features))\n",
    "\n",
    "        # serialize to string and write on the file\n",
    "        writer.write(example.SerializeToString())\n",
    "        \n",
    "    writer.close()"
   ]
  },
  {
   "cell_type": "code",
   "execution_count": 33,
   "metadata": {},
   "outputs": [],
   "source": [
    "create_tf_record(training_set, train_tfrec, LABELS)\n",
    "create_tf_record(validation_set, val_tfrec, LABELS)\n",
    "create_tf_record(test_set, test_tfrec, LABELS)"
   ]
  },
  {
   "cell_type": "code",
   "execution_count": 16,
   "metadata": {},
   "outputs": [
    {
     "name": "stdout",
     "output_type": "stream",
     "text": [
      "WARNING:tensorflow:From /var/folders/nk/4zf7bqhx64v6dj7_7shstgd40000gn/T/ipykernel_42553/1608673233.py:2: tf_record_iterator (from tensorflow.python.lib.io.tf_record) is deprecated and will be removed in a future version.\n",
      "Instructions for updating:\n",
      "Use eager execution and: \n",
      "`tf.data.TFRecordDataset(path)`\n",
      "Training samples: 370\n"
     ]
    }
   ],
   "source": [
    "n_training_samples = 0\n",
    "for record in tf.compat.v1.io.tf_record_iterator(train_tfrec):\n",
    "    n_training_samples += 1\n",
    "print ('Training samples:', n_training_samples)"
   ]
  },
  {
   "cell_type": "code",
   "execution_count": null,
   "metadata": {},
   "outputs": [],
   "source": []
  }
 ],
 "metadata": {
  "kernelspec": {
   "display_name": "Python 3 (ipykernel)",
   "language": "python",
   "name": "python3"
  },
  "language_info": {
   "codemirror_mode": {
    "name": "ipython",
    "version": 3
   },
   "file_extension": ".py",
   "mimetype": "text/x-python",
   "name": "python",
   "nbconvert_exporter": "python",
   "pygments_lexer": "ipython3",
   "version": "3.8.13"
  }
 },
 "nbformat": 4,
 "nbformat_minor": 4
}
